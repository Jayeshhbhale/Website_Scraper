{
 "cells": [
  {
   "cell_type": "code",
   "execution_count": 34,
   "id": "bdc1ab47-84a3-4d3b-bad8-b5fb064c4237",
   "metadata": {},
   "outputs": [],
   "source": [
    "import requests\n",
    "from bs4 import BeautifulSoup\n",
    "import pandas as pd\n",
    "import time"
   ]
  },
  {
   "cell_type": "code",
   "execution_count": 35,
   "id": "a14f9636-55dc-4ec5-8783-cae2fbd7dd6c",
   "metadata": {},
   "outputs": [],
   "source": [
    "base_url = 'https://www.yellowpages.com/search?search_terms=Digital+Marketing+Agencies&geo_location_terms=Los+Angeles%2C+CA'\n",
    "headers = {'User-Agent': 'Mozilla/5.0 (Windows NT 10.0; Win64; x64) AppleWebKit/537.36 (KHTML, like Gecko) Chrome/131.0.0.0 Safari/537.36'}"
   ]
  },
  {
   "cell_type": "code",
   "execution_count": 36,
   "id": "847f3bce-136f-42a3-b37a-31c3384d25e9",
   "metadata": {},
   "outputs": [],
   "source": [
    "r = requests.get(url, headers=headers)\n",
    "soup = BeautifulSoup(r.content, 'html.parser')"
   ]
  },
  {
   "cell_type": "code",
   "execution_count": 37,
   "id": "6eb24237-1332-4f14-9da1-9feabd7a2c8a",
   "metadata": {},
   "outputs": [],
   "source": [
    "# Initialize a list to store the data\n",
    "data = []"
   ]
  },
  {
   "cell_type": "code",
   "execution_count": 41,
   "id": "2191cbec-d9f6-4c20-ad7b-ca27cc893f3b",
   "metadata": {},
   "outputs": [],
   "source": [
    "# Scrape data from Page 1 and Page 2\n",
    "for page in range(1, 3):  # Loop for pages 1 and 2\n",
    "    url = base_url + str(page)\n",
    "    response = requests.get(url, headers=headers)\n",
    "    soup = BeautifulSoup(response.text, \"html.parser\")\n",
    "\n",
    "    # Find all listings on the page\n",
    "    listings = soup.find_all(\"div\", class_=\"result\")\n",
    "\n",
    "    for listing in listings:\n",
    "        try:\n",
    "            # Extract details with empty strings for missing values\n",
    "            company_name = listing.find(\"a\", class_=\"business-name\").text.strip() if listing.find(\"a\", class_=\"business-name\") else \"\"\n",
    "            website_url = listing.find(\"a\", class_=\"track-visit-website\")[\"href\"] if listing.find(\"a\", class_=\"track-visit-website\") else \"\"\n",
    "            phone_number = listing.find(\"div\", class_=\"phones\").text.strip() if listing.find(\"div\", class_=\"phones\") else \"\"\n",
    "            address = listing.find(\"div\", class_=\"street-address\").text.strip() if listing.find(\"div\", class_=\"street-address\") else \"\"\n",
    "            category = listing.find(\"div\", class_=\"categories\").text.strip() if listing.find(\"div\", class_=\"categories\") else \"\"\n",
    "            description = listing.find(\"p\", class_=\"body\").text.strip() if listing.find(\"p\", class_=\"body\") else \"\"\n",
    "\n",
    "            # Append data\n",
    "            data.append({\n",
    "                \"Company Name\": company_name,\n",
    "                \"Website URL\": website_url,\n",
    "                \"Phone Number\": phone_number,\n",
    "                \"Address\": address,\n",
    "                \"Category\": category,\n",
    "                \"Description\": description\n",
    "            })\n",
    "\n",
    "        except Exception as e:\n",
    "            print(f\"Error while processing a listing: {e}\")\n",
    "            continue\n",
    "\n",
    "    # Add delay to avoid getting blocked\n",
    "    time.sleep(2)"
   ]
  },
  {
   "cell_type": "code",
   "execution_count": 42,
   "id": "02139f9a-86d7-4421-a051-cbfd01e231e1",
   "metadata": {},
   "outputs": [],
   "source": [
    "df = pd.DataFrame(data)"
   ]
  },
  {
   "cell_type": "code",
   "execution_count": 43,
   "id": "c3b06e1c-6e2d-4c1a-b4b0-de094c0f1147",
   "metadata": {},
   "outputs": [],
   "source": [
    "df.to_csv(\"yellowpages_data_page_1-2.csv\", index=False)"
   ]
  }
 ],
 "metadata": {
  "kernelspec": {
   "display_name": "Python 3 (ipykernel)",
   "language": "python",
   "name": "python3"
  },
  "language_info": {
   "codemirror_mode": {
    "name": "ipython",
    "version": 3
   },
   "file_extension": ".py",
   "mimetype": "text/x-python",
   "name": "python",
   "nbconvert_exporter": "python",
   "pygments_lexer": "ipython3",
   "version": "3.11.7"
  }
 },
 "nbformat": 4,
 "nbformat_minor": 5
}
